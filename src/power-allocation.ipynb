{
 "cells": [
  {
   "cell_type": "markdown",
   "id": "3505168d",
   "metadata": {},
   "source": [
    "1. Imports"
   ]
  },
  {
   "cell_type": "code",
   "execution_count": 1,
   "id": "6c4337be",
   "metadata": {},
   "outputs": [],
   "source": [
    "import subprocess, os\n",
    "import numpy as np\n",
    "import torch\n",
    "import DeepMIMOv3\n",
    "from collections import defaultdict\n",
    "from tqdm import tqdm"
   ]
  }
 ],
 "metadata": {
  "kernelspec": {
   "display_name": "venv",
   "language": "python",
   "name": "python3"
  },
  "language_info": {
   "codemirror_mode": {
    "name": "ipython",
    "version": 3
   },
   "file_extension": ".py",
   "mimetype": "text/x-python",
   "name": "python",
   "nbconvert_exporter": "python",
   "pygments_lexer": "ipython3",
   "version": "3.12.3"
  }
 },
 "nbformat": 4,
 "nbformat_minor": 5
}
